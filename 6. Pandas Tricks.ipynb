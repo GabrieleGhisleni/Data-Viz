{
 "cells": [
  {
   "cell_type": "code",
   "execution_count": 1,
   "id": "269adb59",
   "metadata": {},
   "outputs": [],
   "source": [
    "import pandas as pd\n",
    "import numpy as np"
   ]
  },
  {
   "cell_type": "markdown",
   "id": "09552014",
   "metadata": {},
   "source": [
    "# Advance Filtering"
   ]
  },
  {
   "cell_type": "code",
   "execution_count": 2,
   "id": "273fb6a2",
   "metadata": {},
   "outputs": [
    {
     "data": {
      "text/html": [
       "<div>\n",
       "<style scoped>\n",
       "    .dataframe tbody tr th:only-of-type {\n",
       "        vertical-align: middle;\n",
       "    }\n",
       "\n",
       "    .dataframe tbody tr th {\n",
       "        vertical-align: top;\n",
       "    }\n",
       "\n",
       "    .dataframe thead th {\n",
       "        text-align: right;\n",
       "    }\n",
       "</style>\n",
       "<table border=\"1\" class=\"dataframe\">\n",
       "  <thead>\n",
       "    <tr style=\"text-align: right;\">\n",
       "      <th></th>\n",
       "      <th>dateRep</th>\n",
       "      <th>day</th>\n",
       "      <th>month</th>\n",
       "      <th>year</th>\n",
       "      <th>cases</th>\n",
       "      <th>deaths</th>\n",
       "      <th>countriesAndTerritories</th>\n",
       "      <th>geoId</th>\n",
       "      <th>countryterritoryCode</th>\n",
       "      <th>popData2019</th>\n",
       "      <th>continentExp</th>\n",
       "    </tr>\n",
       "  </thead>\n",
       "  <tbody>\n",
       "    <tr>\n",
       "      <th>0</th>\n",
       "      <td>2020-05-07</td>\n",
       "      <td>5</td>\n",
       "      <td>7</td>\n",
       "      <td>2020</td>\n",
       "      <td>348</td>\n",
       "      <td>7</td>\n",
       "      <td>Afghanistan</td>\n",
       "      <td>AF</td>\n",
       "      <td>AFG</td>\n",
       "      <td>38041757.0</td>\n",
       "      <td>Asia</td>\n",
       "    </tr>\n",
       "    <tr>\n",
       "      <th>178</th>\n",
       "      <td>2020-05-07</td>\n",
       "      <td>5</td>\n",
       "      <td>7</td>\n",
       "      <td>2020</td>\n",
       "      <td>67</td>\n",
       "      <td>2</td>\n",
       "      <td>Albania</td>\n",
       "      <td>AL</td>\n",
       "      <td>ALB</td>\n",
       "      <td>2862427.0</td>\n",
       "      <td>Europe</td>\n",
       "    </tr>\n",
       "  </tbody>\n",
       "</table>\n",
       "</div>"
      ],
      "text/plain": [
       "       dateRep  day  month  year  cases  deaths countriesAndTerritories geoId  \\\n",
       "0   2020-05-07    5      7  2020    348       7             Afghanistan    AF   \n",
       "178 2020-05-07    5      7  2020     67       2                 Albania    AL   \n",
       "\n",
       "    countryterritoryCode  popData2019 continentExp  \n",
       "0                    AFG   38041757.0         Asia  \n",
       "178                  ALB    2862427.0       Europe  "
      ]
     },
     "execution_count": 2,
     "metadata": {},
     "output_type": "execute_result"
    }
   ],
   "source": [
    "covid = pd.read_csv(\"datasets/covid.csv\", parse_dates=['dateRep'])\n",
    "covid[(covid.dateRep == '2020-05-07') &  (covid.continentExp != 'America') &  ~(covid.cases == 0)].head(2) # not is tilde"
   ]
  },
  {
   "cell_type": "markdown",
   "id": "65d48a31",
   "metadata": {},
   "source": [
    "# Transpose and Reset_index"
   ]
  },
  {
   "cell_type": "code",
   "execution_count": 3,
   "id": "4a81acfa",
   "metadata": {},
   "outputs": [
    {
     "data": {
      "text/html": [
       "<div>\n",
       "<style scoped>\n",
       "    .dataframe tbody tr th:only-of-type {\n",
       "        vertical-align: middle;\n",
       "    }\n",
       "\n",
       "    .dataframe tbody tr th {\n",
       "        vertical-align: top;\n",
       "    }\n",
       "\n",
       "    .dataframe thead th {\n",
       "        text-align: right;\n",
       "    }\n",
       "</style>\n",
       "<table border=\"1\" class=\"dataframe\">\n",
       "  <thead>\n",
       "    <tr style=\"text-align: right;\">\n",
       "      <th></th>\n",
       "      <th>ANNI</th>\n",
       "      <th>Piemonte</th>\n",
       "      <th>Valle d'Aosta-Vallée d'Aoste</th>\n",
       "      <th>Liguria</th>\n",
       "      <th>Lombardia</th>\n",
       "    </tr>\n",
       "  </thead>\n",
       "  <tbody>\n",
       "    <tr>\n",
       "      <th>0</th>\n",
       "      <td>1951</td>\n",
       "      <td>3518.00</td>\n",
       "      <td>94.000</td>\n",
       "      <td>1567.000</td>\n",
       "      <td>6566.000</td>\n",
       "    </tr>\n",
       "    <tr>\n",
       "      <th>1</th>\n",
       "      <td>1961</td>\n",
       "      <td>3914.25</td>\n",
       "      <td>100.959</td>\n",
       "      <td>1735.349</td>\n",
       "      <td>7406.152</td>\n",
       "    </tr>\n",
       "  </tbody>\n",
       "</table>\n",
       "</div>"
      ],
      "text/plain": [
       "   ANNI  Piemonte  Valle d'Aosta-Vallée d'Aoste   Liguria  Lombardia\n",
       "0  1951   3518.00                        94.000  1567.000   6566.000\n",
       "1  1961   3914.25                       100.959  1735.349   7406.152"
      ]
     },
     "execution_count": 3,
     "metadata": {},
     "output_type": "execute_result"
    }
   ],
   "source": [
    "df = pd.read_excel(\"datasets/census.xlsx\")\n",
    "df.drop(columns=[\"Unnamed: 23\"], inplace=True)\n",
    "df.iloc[0:2, 0:5] "
   ]
  },
  {
   "cell_type": "code",
   "execution_count": 4,
   "id": "0e64f1f7",
   "metadata": {},
   "outputs": [
    {
     "data": {
      "text/html": [
       "<div>\n",
       "<style scoped>\n",
       "    .dataframe tbody tr th:only-of-type {\n",
       "        vertical-align: middle;\n",
       "    }\n",
       "\n",
       "    .dataframe tbody tr th {\n",
       "        vertical-align: top;\n",
       "    }\n",
       "\n",
       "    .dataframe thead th {\n",
       "        text-align: right;\n",
       "    }\n",
       "</style>\n",
       "<table border=\"1\" class=\"dataframe\">\n",
       "  <thead>\n",
       "    <tr style=\"text-align: right;\">\n",
       "      <th></th>\n",
       "      <th>Regione</th>\n",
       "      <th>year_1951</th>\n",
       "      <th>year_1961</th>\n",
       "      <th>year_1971</th>\n",
       "      <th>year_1981</th>\n",
       "    </tr>\n",
       "  </thead>\n",
       "  <tbody>\n",
       "    <tr>\n",
       "      <th>1</th>\n",
       "      <td>Piemonte</td>\n",
       "      <td>3518.0</td>\n",
       "      <td>3914.250</td>\n",
       "      <td>4432.0</td>\n",
       "      <td>4479.0</td>\n",
       "    </tr>\n",
       "    <tr>\n",
       "      <th>2</th>\n",
       "      <td>Valle d'Aosta-Vallée d'Aoste</td>\n",
       "      <td>94.0</td>\n",
       "      <td>100.959</td>\n",
       "      <td>109.0</td>\n",
       "      <td>112.0</td>\n",
       "    </tr>\n",
       "  </tbody>\n",
       "</table>\n",
       "</div>"
      ],
      "text/plain": [
       "                        Regione  year_1951  year_1961  year_1971  year_1981\n",
       "1                      Piemonte     3518.0   3914.250     4432.0     4479.0\n",
       "2  Valle d'Aosta-Vallée d'Aoste       94.0    100.959      109.0      112.0"
      ]
     },
     "execution_count": 4,
     "metadata": {},
     "output_type": "execute_result"
    }
   ],
   "source": [
    "df = df.transpose() \n",
    "df.columns = df.iloc[0] # first row is the old first column\n",
    "df.reset_index(inplace=True) # pop the index as column\n",
    "df.columns = ['Regione']+ ['year_'+str(int(i)) for i in df.columns[1:]] # just for this df rename the year\n",
    "df = df.iloc[1:, ] # skip the first raw because is the old ANNI!\n",
    "df.iloc[0:2, 0:5] "
   ]
  },
  {
   "cell_type": "markdown",
   "id": "b1740d0d",
   "metadata": {},
   "source": [
    "# Remove Unicode and Types"
   ]
  },
  {
   "cell_type": "code",
   "execution_count": 5,
   "id": "e281611f",
   "metadata": {},
   "outputs": [
    {
     "name": "stdout",
     "output_type": "stream",
     "text": [
      "could not convert string to float: '23\\xa0864'\n"
     ]
    },
    {
     "data": {
      "text/html": [
       "<div>\n",
       "<style scoped>\n",
       "    .dataframe tbody tr th:only-of-type {\n",
       "        vertical-align: middle;\n",
       "    }\n",
       "\n",
       "    .dataframe tbody tr th {\n",
       "        vertical-align: top;\n",
       "    }\n",
       "\n",
       "    .dataframe thead th {\n",
       "        text-align: right;\n",
       "    }\n",
       "</style>\n",
       "<table border=\"1\" class=\"dataframe\">\n",
       "  <thead>\n",
       "    <tr style=\"text-align: right;\">\n",
       "      <th></th>\n",
       "      <th>Region</th>\n",
       "      <th>Capital</th>\n",
       "      <th>Pop (ab)</th>\n",
       "      <th>Area (km²)</th>\n",
       "      <th>Density (ab./km²)</th>\n",
       "      <th>Provinces</th>\n",
       "      <th>Admin divisions</th>\n",
       "    </tr>\n",
       "  </thead>\n",
       "  <tbody>\n",
       "    <tr>\n",
       "      <th>0</th>\n",
       "      <td>Lombardia</td>\n",
       "      <td>Milano</td>\n",
       "      <td>10 103 969</td>\n",
       "      <td>23 864</td>\n",
       "      <td>423</td>\n",
       "      <td>Bergamo, Brescia, Como, Cremona, Lecco, Lodi, ...</td>\n",
       "      <td>1 506</td>\n",
       "    </tr>\n",
       "    <tr>\n",
       "      <th>1</th>\n",
       "      <td>Lazio</td>\n",
       "      <td>Roma</td>\n",
       "      <td>5 865 544</td>\n",
       "      <td>17 232</td>\n",
       "      <td>340</td>\n",
       "      <td>Frosinone, Latina, Rieti, Roma, Viterbo</td>\n",
       "      <td>378</td>\n",
       "    </tr>\n",
       "  </tbody>\n",
       "</table>\n",
       "</div>"
      ],
      "text/plain": [
       "      Region Capital    Pop (ab) Area (km²)  Density (ab./km²)  \\\n",
       "0  Lombardia  Milano  10 103 969     23 864                423   \n",
       "1      Lazio    Roma   5 865 544     17 232                340   \n",
       "\n",
       "                                           Provinces Admin divisions  \n",
       "0  Bergamo, Brescia, Como, Cremona, Lecco, Lodi, ...           1 506  \n",
       "1            Frosinone, Latina, Rieti, Roma, Viterbo             378  "
      ]
     },
     "execution_count": 5,
     "metadata": {},
     "output_type": "execute_result"
    }
   ],
   "source": [
    "dem = pd.read_csv(\"datasets/demography.csv\")\n",
    "try: dem['Area (km²)'].astype('float')\n",
    "except Exception as e: print(e)\n",
    "dem.head(2) # inside pop there is a '\\ux0'"
   ]
  },
  {
   "cell_type": "code",
   "execution_count": 6,
   "id": "072e04c8",
   "metadata": {},
   "outputs": [],
   "source": [
    "dem[\"Pop (ab)\"]=dem[\"Pop (ab)\"].str.replace(u'\\xa0', '')\n",
    "dem[\"Admin divisions\"]=dem[\"Admin divisions\"].str.replace(u'\\xa0', '')\n",
    "dem[\"Area (km²)\"]=dem[\"Area (km²)\"].str.replace(u'\\xa0', '')"
   ]
  },
  {
   "cell_type": "code",
   "execution_count": 7,
   "id": "f7f2672a",
   "metadata": {},
   "outputs": [
    {
     "data": {
      "text/html": [
       "<div>\n",
       "<style scoped>\n",
       "    .dataframe tbody tr th:only-of-type {\n",
       "        vertical-align: middle;\n",
       "    }\n",
       "\n",
       "    .dataframe tbody tr th {\n",
       "        vertical-align: top;\n",
       "    }\n",
       "\n",
       "    .dataframe thead th {\n",
       "        text-align: right;\n",
       "    }\n",
       "</style>\n",
       "<table border=\"1\" class=\"dataframe\">\n",
       "  <thead>\n",
       "    <tr style=\"text-align: right;\">\n",
       "      <th></th>\n",
       "      <th>Region</th>\n",
       "      <th>Capital</th>\n",
       "      <th>Pop (ab)</th>\n",
       "      <th>Area (km²)</th>\n",
       "      <th>Density (ab./km²)</th>\n",
       "      <th>Provinces</th>\n",
       "      <th>Admin divisions</th>\n",
       "    </tr>\n",
       "  </thead>\n",
       "  <tbody>\n",
       "    <tr>\n",
       "      <th>0</th>\n",
       "      <td>Lombardia</td>\n",
       "      <td>Milano</td>\n",
       "      <td>10103969.0</td>\n",
       "      <td>23864.0</td>\n",
       "      <td>423.0</td>\n",
       "      <td>Bergamo, Brescia, Como, Cremona, Lecco, Lodi, ...</td>\n",
       "      <td>1506.0</td>\n",
       "    </tr>\n",
       "    <tr>\n",
       "      <th>1</th>\n",
       "      <td>Lazio</td>\n",
       "      <td>Roma</td>\n",
       "      <td>5865544.0</td>\n",
       "      <td>17232.0</td>\n",
       "      <td>340.0</td>\n",
       "      <td>Frosinone, Latina, Rieti, Roma, Viterbo</td>\n",
       "      <td>378.0</td>\n",
       "    </tr>\n",
       "  </tbody>\n",
       "</table>\n",
       "</div>"
      ],
      "text/plain": [
       "      Region Capital    Pop (ab)  Area (km²)  Density (ab./km²)  \\\n",
       "0  Lombardia  Milano  10103969.0     23864.0              423.0   \n",
       "1      Lazio    Roma   5865544.0     17232.0              340.0   \n",
       "\n",
       "                                           Provinces  Admin divisions  \n",
       "0  Bergamo, Brescia, Como, Cremona, Lecco, Lodi, ...           1506.0  \n",
       "1            Frosinone, Latina, Rieti, Roma, Viterbo            378.0  "
      ]
     },
     "execution_count": 7,
     "metadata": {},
     "output_type": "execute_result"
    }
   ],
   "source": [
    "float_df = dem.loc[:, [\"Pop (ab)\",\"Area (km²)\", \"Density (ab./km²)\", \"Admin divisions\"]].astype('float')\n",
    "dem.loc[:, [\"Pop (ab)\",\"Area (km²)\", \"Density (ab./km²)\", \"Admin divisions\"]]= float_df\n",
    "dem.head(2)"
   ]
  },
  {
   "cell_type": "markdown",
   "id": "a8899914",
   "metadata": {},
   "source": [
    "# Unroll as Long Dataframe"
   ]
  },
  {
   "cell_type": "code",
   "execution_count": 8,
   "id": "018cf1e2",
   "metadata": {},
   "outputs": [
    {
     "name": "stdout",
     "output_type": "stream",
     "text": [
      "(22, 8)\n"
     ]
    },
    {
     "data": {
      "text/html": [
       "<div>\n",
       "<style scoped>\n",
       "    .dataframe tbody tr th:only-of-type {\n",
       "        vertical-align: middle;\n",
       "    }\n",
       "\n",
       "    .dataframe tbody tr th {\n",
       "        vertical-align: top;\n",
       "    }\n",
       "\n",
       "    .dataframe thead th {\n",
       "        text-align: right;\n",
       "    }\n",
       "</style>\n",
       "<table border=\"1\" class=\"dataframe\">\n",
       "  <thead>\n",
       "    <tr style=\"text-align: right;\">\n",
       "      <th></th>\n",
       "      <th>Regione</th>\n",
       "      <th>year_1951</th>\n",
       "      <th>year_1961</th>\n",
       "      <th>year_1971</th>\n",
       "      <th>year_1981</th>\n",
       "      <th>year_1991</th>\n",
       "      <th>year_2001</th>\n",
       "      <th>year_2011</th>\n",
       "    </tr>\n",
       "  </thead>\n",
       "  <tbody>\n",
       "    <tr>\n",
       "      <th>1</th>\n",
       "      <td>Piemonte</td>\n",
       "      <td>3518.0</td>\n",
       "      <td>3914.250</td>\n",
       "      <td>4432.0</td>\n",
       "      <td>4479.0</td>\n",
       "      <td>4303.0</td>\n",
       "      <td>4214.677</td>\n",
       "      <td>4363.916</td>\n",
       "    </tr>\n",
       "    <tr>\n",
       "      <th>2</th>\n",
       "      <td>Valle d'Aosta-Vallée d'Aoste</td>\n",
       "      <td>94.0</td>\n",
       "      <td>100.959</td>\n",
       "      <td>109.0</td>\n",
       "      <td>112.0</td>\n",
       "      <td>116.0</td>\n",
       "      <td>119.548</td>\n",
       "      <td>126.806</td>\n",
       "    </tr>\n",
       "  </tbody>\n",
       "</table>\n",
       "</div>"
      ],
      "text/plain": [
       "                        Regione  year_1951  year_1961  year_1971  year_1981  \\\n",
       "1                      Piemonte     3518.0   3914.250     4432.0     4479.0   \n",
       "2  Valle d'Aosta-Vallée d'Aoste       94.0    100.959      109.0      112.0   \n",
       "\n",
       "   year_1991  year_2001  year_2011  \n",
       "1     4303.0   4214.677   4363.916  \n",
       "2      116.0    119.548    126.806  "
      ]
     },
     "execution_count": 8,
     "metadata": {},
     "output_type": "execute_result"
    }
   ],
   "source": [
    "df = pd.read_excel(\"datasets/census.xlsx\",)\n",
    "df.drop(columns=[\"Unnamed: 23\"], inplace=True)\n",
    "df = df.transpose() # so to have the year as column to show!\n",
    "df.columns = df.iloc[0]\n",
    "df.reset_index(inplace=True)\n",
    "df.columns = ['Regione']+ ['year_'+str(int(i)) for i in df.columns[1:]]\n",
    "df = df.iloc[1:, ]\n",
    "print(df.shape)\n",
    "df.head(2)"
   ]
  },
  {
   "cell_type": "code",
   "execution_count": 9,
   "id": "deb2e207",
   "metadata": {},
   "outputs": [
    {
     "name": "stdout",
     "output_type": "stream",
     "text": [
      "(154, 3)\n"
     ]
    },
    {
     "data": {
      "text/html": [
       "<div>\n",
       "<style scoped>\n",
       "    .dataframe tbody tr th:only-of-type {\n",
       "        vertical-align: middle;\n",
       "    }\n",
       "\n",
       "    .dataframe tbody tr th {\n",
       "        vertical-align: top;\n",
       "    }\n",
       "\n",
       "    .dataframe thead th {\n",
       "        text-align: right;\n",
       "    }\n",
       "</style>\n",
       "<table border=\"1\" class=\"dataframe\">\n",
       "  <thead>\n",
       "    <tr style=\"text-align: right;\">\n",
       "      <th></th>\n",
       "      <th>Region</th>\n",
       "      <th>Value</th>\n",
       "      <th>Year</th>\n",
       "    </tr>\n",
       "  </thead>\n",
       "  <tbody>\n",
       "    <tr>\n",
       "      <th>0</th>\n",
       "      <td>Piemonte</td>\n",
       "      <td>3518.0</td>\n",
       "      <td>year_1951</td>\n",
       "    </tr>\n",
       "    <tr>\n",
       "      <th>1</th>\n",
       "      <td>Valle d'Aosta-Vallée d'Aoste</td>\n",
       "      <td>94.0</td>\n",
       "      <td>year_1951</td>\n",
       "    </tr>\n",
       "    <tr>\n",
       "      <th>2</th>\n",
       "      <td>Liguria</td>\n",
       "      <td>1567.0</td>\n",
       "      <td>year_1951</td>\n",
       "    </tr>\n",
       "  </tbody>\n",
       "</table>\n",
       "</div>"
      ],
      "text/plain": [
       "                         Region   Value       Year\n",
       "0                      Piemonte  3518.0  year_1951\n",
       "1  Valle d'Aosta-Vallée d'Aoste    94.0  year_1951\n",
       "2                       Liguria  1567.0  year_1951"
      ]
     },
     "execution_count": 9,
     "metadata": {},
     "output_type": "execute_result"
    }
   ],
   "source": [
    "res = []\n",
    "for columns in df.columns[1:]:\n",
    "    res.append(pd.DataFrame(dict(Region=df.Regione.values.tolist(),\n",
    "                                 Value=df[columns].values.tolist(), \n",
    "                                 Year=[str(columns) for i in range(len(df))])))\n",
    "final = pd.concat(res)\n",
    "print(final.shape)\n",
    "final.head(3)"
   ]
  },
  {
   "cell_type": "markdown",
   "id": "ffaefe23",
   "metadata": {},
   "source": [
    "# From Comma to Dot and Types"
   ]
  },
  {
   "cell_type": "code",
   "execution_count": 10,
   "id": "919a6234",
   "metadata": {},
   "outputs": [
    {
     "data": {
      "text/html": [
       "<div>\n",
       "<style scoped>\n",
       "    .dataframe tbody tr th:only-of-type {\n",
       "        vertical-align: middle;\n",
       "    }\n",
       "\n",
       "    .dataframe tbody tr th {\n",
       "        vertical-align: top;\n",
       "    }\n",
       "\n",
       "    .dataframe thead th {\n",
       "        text-align: right;\n",
       "    }\n",
       "</style>\n",
       "<table border=\"1\" class=\"dataframe\">\n",
       "  <thead>\n",
       "    <tr style=\"text-align: right;\">\n",
       "      <th></th>\n",
       "      <th>Country</th>\n",
       "      <th>Region</th>\n",
       "      <th>Population</th>\n",
       "      <th>Area (sq. mi.)</th>\n",
       "      <th>Pop. Density (per sq. mi.)</th>\n",
       "      <th>Coastline (coast/area ratio)</th>\n",
       "      <th>Net migration</th>\n",
       "      <th>Infant mortality (per 1000 births)</th>\n",
       "      <th>GDP ($ per capita)</th>\n",
       "      <th>Literacy (%)</th>\n",
       "      <th>Phones (per 1000)</th>\n",
       "      <th>Arable (%)</th>\n",
       "      <th>Crops (%)</th>\n",
       "      <th>Other (%)</th>\n",
       "      <th>Climate</th>\n",
       "      <th>Birthrate</th>\n",
       "      <th>Deathrate</th>\n",
       "      <th>Agriculture</th>\n",
       "      <th>Industry</th>\n",
       "      <th>Service</th>\n",
       "    </tr>\n",
       "  </thead>\n",
       "  <tbody>\n",
       "    <tr>\n",
       "      <th>0</th>\n",
       "      <td>Afghanistan</td>\n",
       "      <td>ASIA (EX. NEAR EAST)</td>\n",
       "      <td>31056997</td>\n",
       "      <td>647500</td>\n",
       "      <td>48,0</td>\n",
       "      <td>0,00</td>\n",
       "      <td>23,06</td>\n",
       "      <td>163,07</td>\n",
       "      <td>700.0</td>\n",
       "      <td>36,0</td>\n",
       "      <td>3,2</td>\n",
       "      <td>12,13</td>\n",
       "      <td>0,22</td>\n",
       "      <td>87,65</td>\n",
       "      <td>1</td>\n",
       "      <td>46,6</td>\n",
       "      <td>20,34</td>\n",
       "      <td>0,38</td>\n",
       "      <td>0,24</td>\n",
       "      <td>0,38</td>\n",
       "    </tr>\n",
       "  </tbody>\n",
       "</table>\n",
       "</div>"
      ],
      "text/plain": [
       "        Country                         Region  Population  Area (sq. mi.)  \\\n",
       "0  Afghanistan   ASIA (EX. NEAR EAST)             31056997          647500   \n",
       "\n",
       "  Pop. Density (per sq. mi.) Coastline (coast/area ratio) Net migration  \\\n",
       "0                       48,0                         0,00         23,06   \n",
       "\n",
       "  Infant mortality (per 1000 births)  GDP ($ per capita) Literacy (%)  \\\n",
       "0                             163,07               700.0         36,0   \n",
       "\n",
       "  Phones (per 1000) Arable (%) Crops (%) Other (%) Climate Birthrate  \\\n",
       "0               3,2      12,13      0,22     87,65       1      46,6   \n",
       "\n",
       "  Deathrate Agriculture Industry Service  \n",
       "0     20,34        0,38     0,24    0,38  "
      ]
     },
     "execution_count": 10,
     "metadata": {},
     "output_type": "execute_result"
    }
   ],
   "source": [
    "df = pd.read_csv(\"datasets/countries.csv\")\n",
    "df.head(1)"
   ]
  },
  {
   "cell_type": "code",
   "execution_count": 11,
   "id": "4fdbcd89",
   "metadata": {},
   "outputs": [
    {
     "data": {
      "text/html": [
       "<div>\n",
       "<style scoped>\n",
       "    .dataframe tbody tr th:only-of-type {\n",
       "        vertical-align: middle;\n",
       "    }\n",
       "\n",
       "    .dataframe tbody tr th {\n",
       "        vertical-align: top;\n",
       "    }\n",
       "\n",
       "    .dataframe thead th {\n",
       "        text-align: right;\n",
       "    }\n",
       "</style>\n",
       "<table border=\"1\" class=\"dataframe\">\n",
       "  <thead>\n",
       "    <tr style=\"text-align: right;\">\n",
       "      <th></th>\n",
       "      <th>Country</th>\n",
       "      <th>Region</th>\n",
       "      <th>Population</th>\n",
       "      <th>Area (sq. mi.)</th>\n",
       "      <th>Pop. Density (per sq. mi.)</th>\n",
       "      <th>Coastline (coast/area ratio)</th>\n",
       "      <th>Net migration</th>\n",
       "      <th>Infant mortality (per 1000 births)</th>\n",
       "      <th>GDP ($ per capita)</th>\n",
       "      <th>Literacy (%)</th>\n",
       "      <th>Phones (per 1000)</th>\n",
       "      <th>Arable (%)</th>\n",
       "      <th>Crops (%)</th>\n",
       "      <th>Other (%)</th>\n",
       "      <th>Climate</th>\n",
       "      <th>Birthrate</th>\n",
       "      <th>Deathrate</th>\n",
       "      <th>Agriculture</th>\n",
       "      <th>Industry</th>\n",
       "      <th>Service</th>\n",
       "    </tr>\n",
       "  </thead>\n",
       "  <tbody>\n",
       "    <tr>\n",
       "      <th>0</th>\n",
       "      <td>Afghanistan</td>\n",
       "      <td>ASIA (EX. NEAR EAST)</td>\n",
       "      <td>31056997.0</td>\n",
       "      <td>647500.0</td>\n",
       "      <td>48.0</td>\n",
       "      <td>0.0</td>\n",
       "      <td>23.06</td>\n",
       "      <td>163.07</td>\n",
       "      <td>700.0</td>\n",
       "      <td>36.0</td>\n",
       "      <td>3.2</td>\n",
       "      <td>12.13</td>\n",
       "      <td>0.22</td>\n",
       "      <td>87.65</td>\n",
       "      <td>1.0</td>\n",
       "      <td>46.6</td>\n",
       "      <td>20.34</td>\n",
       "      <td>0.38</td>\n",
       "      <td>0.24</td>\n",
       "      <td>0.38</td>\n",
       "    </tr>\n",
       "  </tbody>\n",
       "</table>\n",
       "</div>"
      ],
      "text/plain": [
       "        Country                         Region  Population  Area (sq. mi.)  \\\n",
       "0  Afghanistan   ASIA (EX. NEAR EAST)           31056997.0        647500.0   \n",
       "\n",
       "   Pop. Density (per sq. mi.)  Coastline (coast/area ratio)  Net migration  \\\n",
       "0                        48.0                           0.0          23.06   \n",
       "\n",
       "   Infant mortality (per 1000 births)  GDP ($ per capita)  Literacy (%)  \\\n",
       "0                              163.07               700.0          36.0   \n",
       "\n",
       "   Phones (per 1000)  Arable (%)  Crops (%)  Other (%)  Climate  Birthrate  \\\n",
       "0                3.2       12.13       0.22      87.65      1.0       46.6   \n",
       "\n",
       "   Deathrate  Agriculture  Industry  Service  \n",
       "0      20.34         0.38      0.24     0.38  "
      ]
     },
     "execution_count": 11,
     "metadata": {},
     "output_type": "execute_result"
    }
   ],
   "source": [
    "# replace comma with . and transorm type\n",
    "for c in df.columns[2:]:\n",
    "    try:  df.loc[:,c]=df.loc[:,c].astype('float')\n",
    "    except: \n",
    "        df.loc[:,c]= df.loc[:,c].str.replace(\",\",\".\")\n",
    "        df.loc[:,c]=df.loc[:,c].astype('float')\n",
    "df.head(1)"
   ]
  },
  {
   "cell_type": "markdown",
   "id": "6b9f735b",
   "metadata": {},
   "source": [
    "# Count and Fill NA's"
   ]
  },
  {
   "cell_type": "code",
   "execution_count": 12,
   "id": "e414ac5f",
   "metadata": {},
   "outputs": [
    {
     "data": {
      "text/plain": [
       "[0, 0, 0, 0, 0, 0, 3, 3, 1, 18, 4, 2, 2, 2, 22, 3, 4, 15, 16, 15]"
      ]
     },
     "execution_count": 12,
     "metadata": {},
     "output_type": "execute_result"
    }
   ],
   "source": [
    "np.sum(df.isna()).values.tolist()"
   ]
  },
  {
   "cell_type": "code",
   "execution_count": 13,
   "id": "31161dd4",
   "metadata": {},
   "outputs": [
    {
     "data": {
      "text/html": [
       "<div>\n",
       "<style scoped>\n",
       "    .dataframe tbody tr th:only-of-type {\n",
       "        vertical-align: middle;\n",
       "    }\n",
       "\n",
       "    .dataframe tbody tr th {\n",
       "        vertical-align: top;\n",
       "    }\n",
       "\n",
       "    .dataframe thead th {\n",
       "        text-align: right;\n",
       "    }\n",
       "</style>\n",
       "<table border=\"1\" class=\"dataframe\">\n",
       "  <thead>\n",
       "    <tr style=\"text-align: right;\">\n",
       "      <th></th>\n",
       "      <th>Country</th>\n",
       "      <th>Region</th>\n",
       "      <th>Population</th>\n",
       "      <th>Area (sq. mi.)</th>\n",
       "      <th>Pop. Density (per sq. mi.)</th>\n",
       "      <th>Coastline (coast/area ratio)</th>\n",
       "      <th>Net migration</th>\n",
       "      <th>Infant mortality (per 1000 births)</th>\n",
       "      <th>GDP ($ per capita)</th>\n",
       "      <th>Literacy (%)</th>\n",
       "      <th>Phones (per 1000)</th>\n",
       "      <th>Arable (%)</th>\n",
       "      <th>Crops (%)</th>\n",
       "      <th>Other (%)</th>\n",
       "      <th>Climate</th>\n",
       "      <th>Birthrate</th>\n",
       "      <th>Deathrate</th>\n",
       "      <th>Agriculture</th>\n",
       "      <th>Industry</th>\n",
       "      <th>Service</th>\n",
       "    </tr>\n",
       "  </thead>\n",
       "  <tbody>\n",
       "    <tr>\n",
       "      <th>0</th>\n",
       "      <td>Afghanistan</td>\n",
       "      <td>ASIA (EX. NEAR EAST)</td>\n",
       "      <td>31056997.0</td>\n",
       "      <td>647500.0</td>\n",
       "      <td>48.0</td>\n",
       "      <td>0.00</td>\n",
       "      <td>23.06</td>\n",
       "      <td>163.07</td>\n",
       "      <td>700.0</td>\n",
       "      <td>36.0</td>\n",
       "      <td>3.2</td>\n",
       "      <td>12.13</td>\n",
       "      <td>0.22</td>\n",
       "      <td>87.65</td>\n",
       "      <td>1.0</td>\n",
       "      <td>46.60</td>\n",
       "      <td>20.34</td>\n",
       "      <td>0.380</td>\n",
       "      <td>0.240</td>\n",
       "      <td>0.380</td>\n",
       "    </tr>\n",
       "    <tr>\n",
       "      <th>1</th>\n",
       "      <td>Albania</td>\n",
       "      <td>EASTERN EUROPE</td>\n",
       "      <td>3581655.0</td>\n",
       "      <td>28748.0</td>\n",
       "      <td>124.6</td>\n",
       "      <td>1.26</td>\n",
       "      <td>-4.93</td>\n",
       "      <td>21.52</td>\n",
       "      <td>4500.0</td>\n",
       "      <td>86.5</td>\n",
       "      <td>71.2</td>\n",
       "      <td>21.09</td>\n",
       "      <td>4.42</td>\n",
       "      <td>74.49</td>\n",
       "      <td>3.0</td>\n",
       "      <td>15.11</td>\n",
       "      <td>5.22</td>\n",
       "      <td>0.232</td>\n",
       "      <td>0.188</td>\n",
       "      <td>0.579</td>\n",
       "    </tr>\n",
       "  </tbody>\n",
       "</table>\n",
       "</div>"
      ],
      "text/plain": [
       "        Country                               Region  Population  \\\n",
       "0  Afghanistan         ASIA (EX. NEAR EAST)           31056997.0   \n",
       "1      Albania   EASTERN EUROPE                        3581655.0   \n",
       "\n",
       "   Area (sq. mi.)  Pop. Density (per sq. mi.)  Coastline (coast/area ratio)  \\\n",
       "0        647500.0                        48.0                          0.00   \n",
       "1         28748.0                       124.6                          1.26   \n",
       "\n",
       "   Net migration  Infant mortality (per 1000 births)  GDP ($ per capita)  \\\n",
       "0          23.06                              163.07               700.0   \n",
       "1          -4.93                               21.52              4500.0   \n",
       "\n",
       "   Literacy (%)  Phones (per 1000)  Arable (%)  Crops (%)  Other (%)  Climate  \\\n",
       "0          36.0                3.2       12.13       0.22      87.65      1.0   \n",
       "1          86.5               71.2       21.09       4.42      74.49      3.0   \n",
       "\n",
       "   Birthrate  Deathrate  Agriculture  Industry  Service  \n",
       "0      46.60      20.34        0.380     0.240    0.380  \n",
       "1      15.11       5.22        0.232     0.188    0.579  "
      ]
     },
     "execution_count": 13,
     "metadata": {},
     "output_type": "execute_result"
    }
   ],
   "source": [
    "df.fillna(df.mean(), inplace=True) # df.median(), df.std(), 0, 1 .....\n",
    "df.head(2)"
   ]
  },
  {
   "cell_type": "markdown",
   "id": "1894b2a0",
   "metadata": {},
   "source": [
    "# Get Dummies variable"
   ]
  },
  {
   "cell_type": "code",
   "execution_count": 14,
   "id": "294f8941",
   "metadata": {},
   "outputs": [
    {
     "data": {
      "text/html": [
       "<div>\n",
       "<style scoped>\n",
       "    .dataframe tbody tr th:only-of-type {\n",
       "        vertical-align: middle;\n",
       "    }\n",
       "\n",
       "    .dataframe tbody tr th {\n",
       "        vertical-align: top;\n",
       "    }\n",
       "\n",
       "    .dataframe thead th {\n",
       "        text-align: right;\n",
       "    }\n",
       "</style>\n",
       "<table border=\"1\" class=\"dataframe\">\n",
       "  <thead>\n",
       "    <tr style=\"text-align: right;\">\n",
       "      <th></th>\n",
       "      <th>ASIA (EX. NEAR EAST)</th>\n",
       "      <th>BALTICS</th>\n",
       "      <th>C.W. OF IND. STATES</th>\n",
       "      <th>EASTERN EUROPE</th>\n",
       "      <th>LATIN AMER. &amp; CARIB</th>\n",
       "      <th>NEAR EAST</th>\n",
       "      <th>NORTHERN AFRICA</th>\n",
       "      <th>NORTHERN AMERICA</th>\n",
       "      <th>OCEANIA</th>\n",
       "      <th>SUB-SAHARAN AFRICA</th>\n",
       "      <th>WESTERN EUROPE</th>\n",
       "    </tr>\n",
       "  </thead>\n",
       "  <tbody>\n",
       "    <tr>\n",
       "      <th>0</th>\n",
       "      <td>1</td>\n",
       "      <td>0</td>\n",
       "      <td>0</td>\n",
       "      <td>0</td>\n",
       "      <td>0</td>\n",
       "      <td>0</td>\n",
       "      <td>0</td>\n",
       "      <td>0</td>\n",
       "      <td>0</td>\n",
       "      <td>0</td>\n",
       "      <td>0</td>\n",
       "    </tr>\n",
       "    <tr>\n",
       "      <th>1</th>\n",
       "      <td>0</td>\n",
       "      <td>0</td>\n",
       "      <td>0</td>\n",
       "      <td>1</td>\n",
       "      <td>0</td>\n",
       "      <td>0</td>\n",
       "      <td>0</td>\n",
       "      <td>0</td>\n",
       "      <td>0</td>\n",
       "      <td>0</td>\n",
       "      <td>0</td>\n",
       "    </tr>\n",
       "  </tbody>\n",
       "</table>\n",
       "</div>"
      ],
      "text/plain": [
       "   ASIA (EX. NEAR EAST)           BALTICS                              \\\n",
       "0                              1                                    0   \n",
       "1                              0                                    0   \n",
       "\n",
       "   C.W. OF IND. STATES   EASTERN EUROPE                       \\\n",
       "0                     0                                    0   \n",
       "1                     0                                    1   \n",
       "\n",
       "   LATIN AMER. & CARIB      NEAR EAST                            \\\n",
       "0                        0                                    0   \n",
       "1                        0                                    0   \n",
       "\n",
       "   NORTHERN AFRICA                      NORTHERN AMERICA                     \\\n",
       "0                                    0                                    0   \n",
       "1                                    0                                    0   \n",
       "\n",
       "   OCEANIA                              SUB-SAHARAN AFRICA                   \\\n",
       "0                                    0                                    0   \n",
       "1                                    0                                    0   \n",
       "\n",
       "   WESTERN EUROPE                       \n",
       "0                                    0  \n",
       "1                                    0  "
      ]
     },
     "execution_count": 14,
     "metadata": {},
     "output_type": "execute_result"
    }
   ],
   "source": [
    "df = pd.read_csv(\"datasets/countries.csv\")\n",
    "pd.get_dummies(df.iloc[:,1]).head(2)"
   ]
  },
  {
   "cell_type": "markdown",
   "id": "46a99577",
   "metadata": {},
   "source": [
    "# Date_range for time ticks"
   ]
  },
  {
   "cell_type": "code",
   "execution_count": 15,
   "id": "5955a549",
   "metadata": {},
   "outputs": [
    {
     "data": {
      "text/plain": [
       "(DatetimeIndex(['1948-12-31', '1949-12-31', '1950-12-31', '1951-12-31',\n",
       "                '1952-12-31', '1953-12-31', '1954-12-31', '1955-12-31',\n",
       "                '1956-12-31', '1957-12-31', '1958-12-31', '1959-12-31'],\n",
       "               dtype='datetime64[ns]', freq='A-DEC'),\n",
       " DatetimeIndex(['1949-01-01', '1949-02-01', '1949-03-01', '1949-04-01',\n",
       "                '1949-05-01', '1949-06-01', '1949-07-01', '1949-08-01',\n",
       "                '1949-09-01', '1949-10-01', '1949-11-01', '1949-12-01',\n",
       "                '1950-01-01'],\n",
       "               dtype='datetime64[ns]', freq='MS'))"
      ]
     },
     "execution_count": 15,
     "metadata": {},
     "output_type": "execute_result"
    }
   ],
   "source": [
    "mths = pd.date_range('1948-01-01', periods=12, freq='Y')\n",
    "months = pd.date_range(start='1949', end='1950', freq='MS')\n",
    "mths,months"
   ]
  }
 ],
 "metadata": {
  "kernelspec": {
   "display_name": "Python 3",
   "language": "python",
   "name": "python3"
  },
  "language_info": {
   "codemirror_mode": {
    "name": "ipython",
    "version": 3
   },
   "file_extension": ".py",
   "mimetype": "text/x-python",
   "name": "python",
   "nbconvert_exporter": "python",
   "pygments_lexer": "ipython3",
   "version": "3.9.4"
  },
  "toc": {
   "base_numbering": 1,
   "nav_menu": {},
   "number_sections": true,
   "sideBar": true,
   "skip_h1_title": false,
   "title_cell": "Table of Contents",
   "title_sidebar": "Contents",
   "toc_cell": false,
   "toc_position": {},
   "toc_section_display": true,
   "toc_window_display": false
  }
 },
 "nbformat": 4,
 "nbformat_minor": 5
}
